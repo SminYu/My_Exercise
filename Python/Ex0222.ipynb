{
 "cells": [
  {
   "cell_type": "code",
   "execution_count": 2,
   "metadata": {},
   "outputs": [
    {
     "name": "stdout",
     "output_type": "stream",
     "text": [
      "3\n",
      "((\n",
      "NO\n",
      "))\n",
      "NO\n",
      "())(()\n",
      "NO\n"
     ]
    }
   ],
   "source": [
    "## 올바른 괄호\n",
    "# 괄호의 모양이 바르게 구성된 문자열을 올바른 괄호 문자열(Valid PS, VPS)이라고 부른다.\n",
    "# 입력은 T개의 테스트 데이터로 주어진다. 입력의 첫 번째 줄에는 입력 데이터의 수를 나타내는 정수 T가 주어진다. \n",
    "# 각 테스트 데이터의 첫째 줄에는 괄호 문자열이 한 줄에 주어진다.하나의 괄호 문자열의 길이는 2 이상 50 이하이다.\n",
    "\n",
    "def solution(s):\n",
    "    if ((s[0] == '(') & (s[-1] == ')')): #모든 VPS는 열림으로 시작해 닫힘으로 끝난다.\n",
    "        if (s.count('(') == s.count(')')): #모든 VPS는 열림과 닫힘의 횟수가 같아야 한다.\n",
    "            cnt = 0\n",
    "            for i in range(len(s)): #모든 VPS는 처음부터 시작해서 부분적으로 보았을 때 닫힘의 횟수가 열림의 횟수를 넘을 수 없다.\n",
    "                if (s[i] == \"(\"):\n",
    "                    cnt -= 1\n",
    "                else:\n",
    "                    cnt += 1\n",
    "                if (cnt > 0):\n",
    "                    return False\n",
    "            return True #세 조건을 만족해야 True\n",
    "        return False\n",
    "    return False\n",
    "\n",
    "T = int(input())\n",
    "for i in range(T):\n",
    "    s = input()\n",
    "    if solution(s):\n",
    "        print(\"YES\")\n",
    "    else:\n",
    "        print(\"NO\")"
   ]
  },
  {
   "cell_type": "code",
   "execution_count": 38,
   "metadata": {},
   "outputs": [
    {
     "name": "stdout",
     "output_type": "stream",
     "text": [
      "5\n",
      "2 4 -10 4 -9\n",
      "2 3 0 3 1 "
     ]
    }
   ],
   "source": [
    "## 좌표압축\n",
    "# 수직선 위에 N개의 좌표 X1, X2, ... XN이 있다.\n",
    "# Xi를 압축한 결과 Xi'의 값은 Xi > Xj를 만족하는 \"서로 다른\" 좌표의 개수이다.\n",
    "# 첫째 줄에 N, 둘째 줄에 한 칸으로 구분된 X1, X2, ..., XN이 주어질 때 X1', X2', ..., XN'을 공백 한 칸으로 구분해 출력하시오\n",
    "# N은 백만 이하의 자연수, Xi는 ±1e9 범위의 자연수이다.\n",
    "\n",
    "# Hint) 시간 복잡도 N이 최대 백만이므로, O(n²)이 되지 않도록 유의.\n",
    "\n",
    "import sys\n",
    "\n",
    "N = int(input())\n",
    "X = list(map(int, input().split()))\n",
    "#X = list(map(int, sys.stdin.readline().split()))\n",
    "X_check = sorted(list(set(X[:])))\n",
    "R = {} #Dictionary\n",
    "\n",
    "for i in range(len(X_check)):\n",
    "    R[X_check[i]] = i\n",
    "    \n",
    "for i in X:\n",
    "    print(R[i], end=\" \")"
   ]
  }
 ],
 "metadata": {
  "kernelspec": {
   "display_name": "Python 3",
   "language": "python",
   "name": "python3"
  },
  "language_info": {
   "codemirror_mode": {
    "name": "ipython",
    "version": 3
   },
   "file_extension": ".py",
   "mimetype": "text/x-python",
   "name": "python",
   "nbconvert_exporter": "python",
   "pygments_lexer": "ipython3",
   "version": "3.8.3"
  }
 },
 "nbformat": 4,
 "nbformat_minor": 4
}
