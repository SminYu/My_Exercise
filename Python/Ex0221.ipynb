{
 "cells": [
  {
   "cell_type": "code",
   "execution_count": 16,
   "metadata": {},
   "outputs": [
    {
     "name": "stdout",
     "output_type": "stream",
     "text": [
      "7 4\n",
      "apple\n",
      "ant\n",
      "sand\n",
      "apple\n",
      "append\n",
      "sand\n",
      "sand\n",
      "sand\n",
      "apple\n",
      "append\n"
     ]
    }
   ],
   "source": [
    "### 1.\n",
    "# N개의 단어 중에서 길이가 M이 넘는 단어들만 정렬하시오.\n",
    "# 이 때 정렬의 기준의 우선순위는 (자주 나올수록 먼저, 길이가 길수록 먼저, 알파벳 순으로)이다.\n",
    "\n",
    "from collections import Counter\n",
    "import sys\n",
    "\n",
    "#N, M = map(int, sys.stdin.readline().split())\n",
    "N, M = map(int, input().split())\n",
    "voca = []\n",
    "\n",
    "for i in range(N):\n",
    "    #word = sys.stdin.readline().rstrip()\n",
    "    word = input()\n",
    "    if (len(word) >= M):\n",
    "        voca.append(word)\n",
    "\n",
    "freq = Counter(voca)\n",
    "\n",
    "voca = list(set(voca))\n",
    "voca.sort(key = (lambda item: (-freq[item], -len(item), item)))\n",
    "for i in range(len(voca)):\n",
    "    print(voca[i])"
   ]
  },
  {
   "cell_type": "code",
   "execution_count": 17,
   "metadata": {},
   "outputs": [],
   "source": [
    "### 2.\n",
    "# Josephus problem\n",
    "# 1번부터 N번까지 N명의 사람이 원을 이루면서 앉아있고, 양의 정수 K(≤ N)가 주어진다. \n",
    "# 이제 순서대로 K번째 사람을 제거한다. 한 사람이 제거되면 남은 사람들로 이루어진 원을 따라 이 과정을 계속해 나간다. \n",
    "# 이 과정은 N명의 사람이 모두 제거될 때까지 계속된다. 원에서 사람들이 제거되는 순서를 (N, K)-요세푸스 순열이라고 한다. \n",
    "# 예를 들어 (7, 3)-요세푸스 순열은 <3, 6, 2, 7, 5, 1, 4>이다.\n",
    "# 첫째 줄에 N과 K가 빈 칸을 사이에 두고 순서대로 주어진다. (1 ≤ K ≤ N ≤ 5,000)"
   ]
  },
  {
   "cell_type": "code",
   "execution_count": 14,
   "metadata": {},
   "outputs": [
    {
     "name": "stdout",
     "output_type": "stream",
     "text": [
      "7 3\n",
      "<3, 6, 2, 7, 5, 1, 4>\n"
     ]
    }
   ],
   "source": [
    "N, K = map(int, input().split())\n",
    "\n",
    "man = list(range(1,N+1))\n",
    "i = K-1\n",
    "result = []\n",
    "\n",
    "while man:\n",
    "    result.append(man[i])\n",
    "    man.pop((i))\n",
    "    i += K-1\n",
    "    if (i >= len(man)):\n",
    "        if (len(man) == 0):\n",
    "            break\n",
    "        i = i%len(man)\n",
    "        \n",
    "output = \"<\"\n",
    "for i in range(len(result)-1):\n",
    "    output += str(result[i])+\", \"\n",
    "output += str(result[-1])\n",
    "output += \">\"\n",
    "\n",
    "print(output)"
   ]
  },
  {
   "cell_type": "code",
   "execution_count": 86,
   "metadata": {},
   "outputs": [
    {
     "name": "stdout",
     "output_type": "stream",
     "text": [
      "5\n",
      "4 1 5 2 3\n",
      "5\n",
      "1 3 7 9 5\n",
      "1\n",
      "1\n",
      "0\n",
      "0\n",
      "1\n"
     ]
    }
   ],
   "source": [
    "# 3. N개의 정수 A[1], A[2], …, A[N]이 주어져 있을 때, 이 안에 X라는 정수가 존재하는지 알아내는 프로그램을 작성하시오.\n",
    "import sys\n",
    "\n",
    "N = int(input())\n",
    "A = list(map(int, input().split()))\n",
    "#A = list(map(int, sys.stdin.readline().split()))\n",
    "M = int(input())\n",
    "X = list(map(int, input().split()))\n",
    "#X = list(map(int, sys.stdin.readline().split()))\n",
    "\n",
    "for i in range(len(X)):\n",
    "    if (X[i] in A):\n",
    "        print(1)\n",
    "    else:\n",
    "        print(0)"
   ]
  },
  {
   "cell_type": "code",
   "execution_count": 22,
   "metadata": {
    "scrolled": true
   },
   "outputs": [
    {
     "name": "stdout",
     "output_type": "stream",
     "text": [
      "121\n",
      "yes\n",
      "1234\n",
      "no\n",
      "1241\n",
      "no\n",
      "24341\n",
      "no\n",
      "0\n"
     ]
    }
   ],
   "source": [
    "#4.어떤 단어를 뒤에서부터 읽어도 똑같다면 그 단어를 팰린드롬이라고 한다. 'radar', 'sees'는 팰린드롬이다.\n",
    "#수도 팰린드롬으로 취급할 수 있다. 수의 숫자들을 뒤에서부터 읽어도 같다면 그 수는 팰린드롬수다. 단, 무의미한 0을 앞에 둘 수는 없다.\n",
    "#각 줄마다 주어진 수가 팰린드롬수면 'yes', 아니면 'no'를 출력한다.\n",
    "\n",
    "while True:\n",
    "    n = input()\n",
    "    check = True\n",
    "    if (n == '0'):\n",
    "        break\n",
    "    if (len(n)%2 != 0):\n",
    "        for i in range(int(len(n)/2)):\n",
    "            if (n[i] != n[-1-i]):\n",
    "                print('no')\n",
    "                check = False\n",
    "                break\n",
    "    else:\n",
    "        for i in range(int(len(n)/2)):\n",
    "            if (n[i] != n[-1-i]):\n",
    "                print('no')\n",
    "                check = False\n",
    "                break\n",
    "    if (check == True):\n",
    "        print('yes')"
   ]
  }
 ],
 "metadata": {
  "kernelspec": {
   "display_name": "Python 3",
   "language": "python",
   "name": "python3"
  },
  "language_info": {
   "codemirror_mode": {
    "name": "ipython",
    "version": 3
   },
   "file_extension": ".py",
   "mimetype": "text/x-python",
   "name": "python",
   "nbconvert_exporter": "python",
   "pygments_lexer": "ipython3",
   "version": "3.8.3"
  }
 },
 "nbformat": 4,
 "nbformat_minor": 4
}
