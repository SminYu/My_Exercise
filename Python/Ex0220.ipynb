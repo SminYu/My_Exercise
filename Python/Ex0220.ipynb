{
 "cells": [
  {
   "cell_type": "code",
   "execution_count": 3,
   "metadata": {},
   "outputs": [
    {
     "name": "stdout",
     "output_type": "stream",
     "text": [
      "010\n",
      "8\n"
     ]
    }
   ],
   "source": [
    "# 8진법, 10진법, 16진법\n",
    "# 0으로 시작하면 8진법, 0x로 시작하면 16진법인 수이고, 두 경우가 아니면 10진법이다\n",
    "# 모든 수를 10진법으로 나타내시오.\n",
    "\n",
    "x = input()\n",
    "if (x[0] == '0'):\n",
    "    if (x[1] == 'x'):\n",
    "        print(int(x, 16))\n",
    "    else:\n",
    "        print(int(x, 8))\n",
    "else:\n",
    "    print(int(x))"
   ]
  },
  {
   "cell_type": "code",
   "execution_count": 1,
   "metadata": {},
   "outputs": [
    {
     "name": "stdout",
     "output_type": "stream",
     "text": [
      "5\n",
      "sombody\n",
      "can\n",
      "find\n",
      "sombody\n",
      "yeah\n",
      "can\n",
      "find\n",
      "yeah\n",
      "sombody\n"
     ]
    }
   ],
   "source": [
    "# 주어지는 문자열들을 길이순으로, 알파벳순으로 정렬하시오.\n",
    "# 단, 겹치는 문자열은 제거하시오.\n",
    "\n",
    "N = int(input())\n",
    "s = []\n",
    "for i in range(N):\n",
    "    s.append(input())\n",
    "    \n",
    "s = list(set(s)) #겹치는거 제거\n",
    "s = sorted(s, key=(lambda item: (len(item), item)), reverse=False) #길이순, 알파벳순 정렬\n",
    "for i in range(len(s)):\n",
    "    print(s[i])"
   ]
  },
  {
   "cell_type": "code",
   "execution_count": 8,
   "metadata": {},
   "outputs": [
    {
     "name": "stdout",
     "output_type": "stream",
     "text": [
      "5\n",
      "3 5 4 4 2\n",
      "47\n"
     ]
    }
   ],
   "source": [
    "##### ATM에서 각 사람이 기다리는 시간의 합의 최소를 구하시오\n",
    "# 사람 수와 각 사람이 소요하는 예상시간이 입력됨.\n",
    "\n",
    "n = int(input())\n",
    "s = list(map(int, input().split()))\n",
    "s.sort() #시간이 오래걸리는 사람이 나중에 해야 전체적으로 기다리는 시간이 최소화됨.\n",
    "t = 0\n",
    "for i in range(n):\n",
    "    t += s[i]*(n-i)\n",
    "print(t)"
   ]
  },
  {
   "cell_type": "code",
   "execution_count": null,
   "metadata": {},
   "outputs": [],
   "source": []
  }
 ],
 "metadata": {
  "kernelspec": {
   "display_name": "Python 3",
   "language": "python",
   "name": "python3"
  },
  "language_info": {
   "codemirror_mode": {
    "name": "ipython",
    "version": 3
   },
   "file_extension": ".py",
   "mimetype": "text/x-python",
   "name": "python",
   "nbconvert_exporter": "python",
   "pygments_lexer": "ipython3",
   "version": "3.8.3"
  }
 },
 "nbformat": 4,
 "nbformat_minor": 4
}
